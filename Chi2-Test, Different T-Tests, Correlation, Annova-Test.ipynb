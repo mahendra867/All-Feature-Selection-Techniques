{
 "cells": [
  {
   "cell_type": "markdown",
   "id": "dcf2ea03",
   "metadata": {},
   "source": [
    "## Chi-Square Test-\n",
    "The test is applied when you have two categorical variables from a single population. It is used to determine whether there is a significant association between the two variables."
   ]
  },
  {
   "cell_type": "code",
   "execution_count": 2,
   "id": "510a8f21",
   "metadata": {},
   "outputs": [],
   "source": [
    "import scipy.stats as stats"
   ]
  },
  {
   "cell_type": "code",
   "execution_count": 3,
   "id": "8f9db2eb",
   "metadata": {},
   "outputs": [],
   "source": [
    "import seaborn as sns\n",
    "import numpy as np\n",
    "import pandas as pd\n",
    "dataset=sns.load_dataset('tips')"
   ]
  },
  {
   "cell_type": "code",
   "execution_count": 4,
   "id": "10f73591",
   "metadata": {},
   "outputs": [
    {
     "data": {
      "text/html": [
       "<div>\n",
       "<style scoped>\n",
       "    .dataframe tbody tr th:only-of-type {\n",
       "        vertical-align: middle;\n",
       "    }\n",
       "\n",
       "    .dataframe tbody tr th {\n",
       "        vertical-align: top;\n",
       "    }\n",
       "\n",
       "    .dataframe thead th {\n",
       "        text-align: right;\n",
       "    }\n",
       "</style>\n",
       "<table border=\"1\" class=\"dataframe\">\n",
       "  <thead>\n",
       "    <tr style=\"text-align: right;\">\n",
       "      <th></th>\n",
       "      <th>total_bill</th>\n",
       "      <th>tip</th>\n",
       "      <th>sex</th>\n",
       "      <th>smoker</th>\n",
       "      <th>day</th>\n",
       "      <th>time</th>\n",
       "      <th>size</th>\n",
       "    </tr>\n",
       "  </thead>\n",
       "  <tbody>\n",
       "    <tr>\n",
       "      <th>0</th>\n",
       "      <td>16.99</td>\n",
       "      <td>1.01</td>\n",
       "      <td>Female</td>\n",
       "      <td>No</td>\n",
       "      <td>Sun</td>\n",
       "      <td>Dinner</td>\n",
       "      <td>2</td>\n",
       "    </tr>\n",
       "    <tr>\n",
       "      <th>1</th>\n",
       "      <td>10.34</td>\n",
       "      <td>1.66</td>\n",
       "      <td>Male</td>\n",
       "      <td>No</td>\n",
       "      <td>Sun</td>\n",
       "      <td>Dinner</td>\n",
       "      <td>3</td>\n",
       "    </tr>\n",
       "    <tr>\n",
       "      <th>2</th>\n",
       "      <td>21.01</td>\n",
       "      <td>3.50</td>\n",
       "      <td>Male</td>\n",
       "      <td>No</td>\n",
       "      <td>Sun</td>\n",
       "      <td>Dinner</td>\n",
       "      <td>3</td>\n",
       "    </tr>\n",
       "    <tr>\n",
       "      <th>3</th>\n",
       "      <td>23.68</td>\n",
       "      <td>3.31</td>\n",
       "      <td>Male</td>\n",
       "      <td>No</td>\n",
       "      <td>Sun</td>\n",
       "      <td>Dinner</td>\n",
       "      <td>2</td>\n",
       "    </tr>\n",
       "    <tr>\n",
       "      <th>4</th>\n",
       "      <td>24.59</td>\n",
       "      <td>3.61</td>\n",
       "      <td>Female</td>\n",
       "      <td>No</td>\n",
       "      <td>Sun</td>\n",
       "      <td>Dinner</td>\n",
       "      <td>4</td>\n",
       "    </tr>\n",
       "  </tbody>\n",
       "</table>\n",
       "</div>"
      ],
      "text/plain": [
       "   total_bill   tip     sex smoker  day    time  size\n",
       "0       16.99  1.01  Female     No  Sun  Dinner     2\n",
       "1       10.34  1.66    Male     No  Sun  Dinner     3\n",
       "2       21.01  3.50    Male     No  Sun  Dinner     3\n",
       "3       23.68  3.31    Male     No  Sun  Dinner     2\n",
       "4       24.59  3.61  Female     No  Sun  Dinner     4"
      ]
     },
     "execution_count": 4,
     "metadata": {},
     "output_type": "execute_result"
    }
   ],
   "source": [
    "dataset.head()"
   ]
  },
  {
   "cell_type": "markdown",
   "id": "2a8cdd3c",
   "metadata": {},
   "source": [
    "### Observation \n",
    "the data set about how frequently people are visting the restuarent and at the same time how much bill there are paying for there either luch or dinner and here size means how many people visited the restaurent\n",
    "\n",
    "By using the sample population  and  with the help of chi-square Test iam going to find the relationship or association between 2 categorical features which are Sex and smoker "
   ]
  },
  {
   "cell_type": "code",
   "execution_count": 5,
   "id": "2e88d38a",
   "metadata": {},
   "outputs": [
    {
     "name": "stdout",
     "output_type": "stream",
     "text": [
      "smoker  Yes  No\n",
      "sex            \n",
      "Male     60  97\n",
      "Female   33  54\n"
     ]
    }
   ],
   "source": [
    "dataset_table=pd.crosstab(dataset['sex'],dataset['smoker']) # The crosstab() function in Python is a library function in the Pandas library. It is used to compute a simple cross tabulation of two (or more) factors. A cross tabulation is a table that shows the frequencies of different combinations of categorical variables.and crosstab form a matrix which look like in the below output\n",
    "print(dataset_table)"
   ]
  },
  {
   "cell_type": "code",
   "execution_count": 6,
   "id": "79de8f09",
   "metadata": {},
   "outputs": [
    {
     "data": {
      "text/plain": [
       "array([[60, 97],\n",
       "       [33, 54]], dtype=int64)"
      ]
     },
     "execution_count": 6,
     "metadata": {},
     "output_type": "execute_result"
    }
   ],
   "source": [
    "dataset_table.values"
   ]
  },
  {
   "cell_type": "code",
   "execution_count": 8,
   "id": "25037bb9",
   "metadata": {},
   "outputs": [
    {
     "name": "stdout",
     "output_type": "stream",
     "text": [
      "observed_values \n",
      " [[60 97]\n",
      " [33 54]]\n"
     ]
    }
   ],
   "source": [
    " # observed values\n",
    "observed_values=dataset_table.values\n",
    "print(\"observed_values \\n\",observed_values)"
   ]
  },
  {
   "cell_type": "code",
   "execution_count": 10,
   "id": "1989e723",
   "metadata": {},
   "outputs": [],
   "source": [
    "val=stats.chi2_contingency(dataset_table)"
   ]
  },
  {
   "cell_type": "code",
   "execution_count": 11,
   "id": "58977651",
   "metadata": {},
   "outputs": [
    {
     "data": {
      "text/plain": [
       "Chi2ContingencyResult(statistic=0.0, pvalue=1.0, dof=1, expected_freq=array([[59.84016393, 97.15983607],\n",
       "       [33.15983607, 53.84016393]]))"
      ]
     },
     "execution_count": 11,
     "metadata": {},
     "output_type": "execute_result"
    }
   ],
   "source": [
    "val"
   ]
  },
  {
   "cell_type": "markdown",
   "id": "0e482b98",
   "metadata": {},
   "source": [
    " The code you shared shows how to use the chi2_contingency() function in Python to perform a chi-square test of independence. The chi-square test of independence is a statistical test that is used to determine whether there is a significant relationship between two categorical variables.\n",
    "\n",
    "In your example, the two categorical variables are the rows and columns of the observed_values array. The rows represent the different categories of one variable, and the columns represent the different categories of the other variable.\n",
    "\n",
    "The chi2_contingency() function takes the observed_values array as input and returns a tuple of four values:\n",
    "\n",
    "The chi-square statistic. This is a measure of the difference between the observed and expected frequencies.\n",
    "The p-value. This is the probability of obtaining the observed results if there is no relationship between the two variables. A p-value of less than 0.05 is generally considered to be statistically significant.\n",
    "The degrees of freedom. This is a measure of the number of independent cells in the contingency table.\n",
    "The expected frequencies. These are the frequencies that would be expected if there was no relationship between the two variables.\n",
    "In your output, the chi-square statistic is 0.0, the p-value is 1.0, the degrees of freedom is 1, and the expected frequencies are shown in the array.\n",
    "\n",
    "Since the p-value is 1.0, we cannot reject the null hypothesis that there is no relationship between the two variables. In other words, the observed frequencies are not significantly different from the expected frequencies.\n",
    "\n",
    "To put it more briefly, the chi-square test of independence found no statistically significant relationship between the two categorical variables in your example."
   ]
  },
  {
   "cell_type": "code",
   "execution_count": 12,
   "id": "20949f2b",
   "metadata": {},
   "outputs": [],
   "source": [
    "Expected_values=val[3]"
   ]
  },
  {
   "cell_type": "code",
   "execution_count": 13,
   "id": "bc326fb3",
   "metadata": {},
   "outputs": [
    {
     "name": "stdout",
     "output_type": "stream",
     "text": [
      "Degree of freedom :- 1\n"
     ]
    }
   ],
   "source": [
    "no_of_rows=len(dataset_table.iloc[0:2,0])\n",
    "no_of_columns=len(dataset_table.iloc[0,0:2])\n",
    "ddof=(no_of_rows-1)*(no_of_columns-1)\n",
    "print(\"Degree of freedom :-\",ddof)\n",
    "alpha=0.05 # it is also know as p value or i can say this is a learning rate, so if we set p value as 0.05 then it means 95% of the variance ratio is captured between those 2 features "
   ]
  },
  {
   "cell_type": "markdown",
   "id": "3b841830",
   "metadata": {},
   "source": [
    "Sure. The code you shared calculates the degrees of freedom for a chi-square test. The degrees of freedom is a measure of the number of independent cells in the contingency table. In your example, the contingency table has 2 rows and 2 columns, so there are (2-1)*(2-1) = 1 degree of freedom.\n",
    "\n",
    "The degrees of freedom is used to determine the critical value for the chi-square test. The critical value is the value of the chi-square statistic that is required to reject the null hypothesis. The null hypothesis is the hypothesis that there is no relationship between the two categorical variables.\n",
    "\n",
    "In your example, the alpha level is set to 0.05. This means that we are setting the probability of making a Type I error (rejecting the null hypothesis when it is true) to 5%. The critical value for a chi-square test with 1 degree of freedom and an alpha level of 0.05 is 3.841.\n",
    "\n",
    "Since the calculated chi-square statistic (0.0) is less than the critical value (3.841), we cannot reject the null hypothesis. In other words, there is not enough evidence to conclude that there is a significant relationship between the two categorical variables.\n",
    "\n",
    "To put it more briefly, the degrees of freedom is a measure of the number of independent cells in the contingency table. It is used to determine the critical value for the chi-square test, which is used to determine whether to reject the null hypothesis.\n",
    "\n",
    "\n",
    "### Chi_square Formula\n",
    "\n",
    "x^2=summation((o-e)^2)/e)"
   ]
  },
  {
   "cell_type": "code",
   "execution_count": 16,
   "id": "d10a4742",
   "metadata": {},
   "outputs": [],
   "source": [
    "from scipy.stats import chi2\n",
    "chi_square=sum([(o-e)**2./e for o,e in zip(observed_values,Expected_values)])\n",
    "chi_square_statistics=chi_square[0]+chi_square[1]"
   ]
  },
  {
   "cell_type": "markdown",
   "id": "4c15979f",
   "metadata": {},
   "source": [
    "The first line imports the chi2 function from the scipy.stats library. This function is used to calculate the chi-square statistic.\n",
    "\n",
    "The second line calculates the chi-square statistic. The sum() function sums the squared differences between the observed and expected frequencies, divided by the expected frequencies. The zip() function zips together the observed and expected frequencies, so that they can be looped over together.\n",
    "\n",
    "The third line calculates the chi-square statistic for the entire contingency table. This is done by adding the chi-square statistics for each row of the contingency table."
   ]
  },
  {
   "cell_type": "code",
   "execution_count": 18,
   "id": "b6476e38",
   "metadata": {},
   "outputs": [
    {
     "name": "stdout",
     "output_type": "stream",
     "text": [
      "chi_square statistic :- 0.001934818536627623\n"
     ]
    }
   ],
   "source": [
    "print(\"chi_square statistic :-\",chi_square_statistics)"
   ]
  },
  {
   "cell_type": "code",
   "execution_count": 19,
   "id": "c9f3239a",
   "metadata": {},
   "outputs": [
    {
     "name": "stdout",
     "output_type": "stream",
     "text": [
      "critical_value: 3.841458820694124\n"
     ]
    }
   ],
   "source": [
    "critical_value=chi2.ppf(q=1-alpha,df=ddof) #ppf=percent point fucntion,alpha=p\n",
    "print('critical_value:',critical_value)"
   ]
  },
  {
   "cell_type": "markdown",
   "id": "efdd5cd1",
   "metadata": {},
   "source": [
    "The above lines calculates the critical value for the chi-square test. The chi2.ppf() function calculates the percent point function for the chi-square distribution. The q argument specifies the quantile, which in this case is 1-alpha. The df argument specifies the degrees of freedom.\n",
    "\n"
   ]
  },
  {
   "cell_type": "code",
   "execution_count": 20,
   "id": "ef84f649",
   "metadata": {},
   "outputs": [
    {
     "name": "stdout",
     "output_type": "stream",
     "text": [
      "Significance level:  0.05\n",
      "Degree of Freedom:  1\n",
      "p-value: 0.964915107315732\n"
     ]
    }
   ],
   "source": [
    "# p-value\n",
    "p_value=1-chi2.cdf(x=chi_square_statistics,df=ddof)\n",
    "print('Significance level: ',alpha)\n",
    "print('Degree of Freedom: ',ddof)\n",
    "print('p-value:',p_value)"
   ]
  },
  {
   "cell_type": "markdown",
   "id": "bb335c5b",
   "metadata": {},
   "source": [
    "The above lines calculates the p-value for the chi-square test. The chi2.cdf() function calculates the cumulative distribution function for the chi-square distribution. The x argument specifies the value of the chi-square statistic. The df argument specifies the degrees of freedom."
   ]
  },
  {
   "cell_type": "code",
   "execution_count": 22,
   "id": "f180348f",
   "metadata": {},
   "outputs": [
    {
     "name": "stdout",
     "output_type": "stream",
     "text": [
      "Retain H0,There is no relationship between 2 categorical variables\n",
      "Retain H0,There is no relationship between 2 categorical variables\n"
     ]
    }
   ],
   "source": [
    "if chi_square_statistics>=critical_value:\n",
    "    print(\"Reject H0,There is a relationship between 2 categorical variables\")\n",
    "else:\n",
    "    print(\"Retain H0,There is no relationship between 2 categorical variables\")\n",
    "    \n",
    "if p_value<=alpha:\n",
    "    print(\"Reject H0,There is a relationship between 2 categorical variables\")\n",
    "else:\n",
    "    print(\"Retain H0,There is no relationship between 2 categorical variables\")"
   ]
  },
  {
   "cell_type": "markdown",
   "id": "25dd2c1d",
   "metadata": {},
   "source": [
    "The above lines print the significance level, degrees of freedom, and p-value for the chi-square test. The eighth and ninth lines print a decision on whether to reject the null hypothesis.\n",
    "\n",
    "The null hypothesis is the hypothesis that there is no relationship between the two categorical variables. If the chi-square statistic is greater than the critical value or the p-value is less than alpha, then we reject the null hypothesis. In other words, we conclude that there is a significant relationship between the two categorical variables.\n",
    "\n",
    "In your example, the chi-square statistic is less than the critical value and the p-value is greater than alpha. Therefore, we cannot reject the null hypothesis. In other words, there is not enough evidence to conclude that there is a significant relationship between the two categorical variables."
   ]
  },
  {
   "cell_type": "markdown",
   "id": "1368f663",
   "metadata": {},
   "source": [
    "- sex and smoker features are inter related or associated so i may consider the both categorical features which are sex and smoker for feature selection or feature engineering stage \n",
    "\n",
    "- so we got output after performing the chi2 test as there is no relationship between 2 features which are sex and smoker it means there are independent to each other so defintely these both features are imp to trigger the output it means those features helps us to improve our model accuracy   "
   ]
  },
  {
   "cell_type": "code",
   "execution_count": null,
   "id": "0e5f5efd",
   "metadata": {},
   "outputs": [],
   "source": []
  },
  {
   "cell_type": "markdown",
   "id": "f0ac125c",
   "metadata": {},
   "source": [
    "### T-Test\n",
    "\n",
    "A t-test is a type of inferential statistic which is used to determine if there is a significant difference between the means of two groups which may be related in certain features\n",
    "\n",
    "or\n",
    "\n",
    "suppose i have 2 groups these 2 groups may be population now if i take the sample of 2 population and if i try to compare the mean and come to conclusion that wether there a significant difference between the 2 population by just considering the mean from that population\n",
    "\n",
    "T-test has 2 types : 1. one sampled t-test 2. two-sampled t-test."
   ]
  },
  {
   "attachments": {
    "t-test.jpg": {
     "image/jpeg": "[encoded data removed]"
    }
   },
   "cell_type": "markdown",
   "id": "a6435ce2",
   "metadata": {},
   "source": [
    "### One -sample T-test with Python\n",
    "![t-test.jpg](attachment:t-test.jpg)"
   ]
  },
  {
   "cell_type": "markdown",
   "id": "4a335cf9",
   "metadata": {},
   "source": [
    "iam going to consider a class of students and there are 32 students are there  and the mean of class of a students is 30.3 w.r.t their age\n",
    "\n",
    "and if i consider a sample of ages from these and if i compute a mean is there any siginficant difference  in mean of the population  thats all i want to see or check and its all done one sample T-test\n",
    "\n",
    "so if we are performing the t-test  we are basically comparing the population and sample and we are validating something based on evidences now in this case my validation is whether there is difference between a sample mean and population mean and here i will create a alternate hypothisis and which is H1 and this alternate hypothisis says that there is differnece and null hypothisis (H0) say that there is no difference \n",
    "\n",
    "so i use this t-test to compute the p value so if the p value is  less than 0.0.5 iam going to reject the null hypothesis and then iam going to say that yes ther is some change in difference of sample mean and population mean"
   ]
  },
  {
   "cell_type": "code",
   "execution_count": 25,
   "id": "272acaf0",
   "metadata": {},
   "outputs": [],
   "source": [
    "ages=[10,20,35,50,28,40,55,18,16,55,30,25,43,18,30,28,14,24,16,17,32,35,26,27,65,18,43,23,21,20,19,70]"
   ]
  },
  {
   "cell_type": "code",
   "execution_count": 26,
   "id": "031aee32",
   "metadata": {},
   "outputs": [
    {
     "data": {
      "text/plain": [
       "32"
      ]
     },
     "execution_count": 26,
     "metadata": {},
     "output_type": "execute_result"
    }
   ],
   "source": [
    "len(ages)"
   ]
  },
  {
   "cell_type": "code",
   "execution_count": 27,
   "id": "d07999ab",
   "metadata": {},
   "outputs": [
    {
     "name": "stdout",
     "output_type": "stream",
     "text": [
      "30.34375\n"
     ]
    }
   ],
   "source": [
    "import numpy as np\n",
    "ages_mean=np.mean(ages)\n",
    "print(ages_mean)"
   ]
  },
  {
   "cell_type": "code",
   "execution_count": 28,
   "id": "5017e62a",
   "metadata": {},
   "outputs": [],
   "source": [
    "# lets take the sample\n",
    "sample_size=10\n",
    "age_sample=np.random.choice(ages,sample_size) # here iam going to pick up the 10 ages randomly in the age varaible"
   ]
  },
  {
   "cell_type": "code",
   "execution_count": 29,
   "id": "01e439b2",
   "metadata": {},
   "outputs": [
    {
     "data": {
      "text/plain": [
       "array([30, 43, 55, 28, 18, 17, 18, 16, 17, 55])"
      ]
     },
     "execution_count": 29,
     "metadata": {},
     "output_type": "execute_result"
    }
   ],
   "source": [
    "age_sample"
   ]
  },
  {
   "cell_type": "code",
   "execution_count": 30,
   "id": "4ef4882a",
   "metadata": {},
   "outputs": [],
   "source": [
    "from scipy.stats import ttest_1samp # ttest_1samp is going to use whenever we are going to perform the one_sample t-test"
   ]
  },
  {
   "cell_type": "code",
   "execution_count": null,
   "id": "8094897f",
   "metadata": {},
   "outputs": [],
   "source": [
    "ttest,p_value=ttest_1samp(age_sample,30) "
   ]
  },
  {
   "cell_type": "markdown",
   "id": "f80c4145",
   "metadata": {},
   "source": [
    "here we are getting the 2 values which are p_value and ttest but for now p_value is imp and perfoming the onesampe t-test by using ttest_1samp() by just passing the age sample ,30 which means whether my age_sample is based on the population mean which is 30 and i just consider the population mean value as 30 and null hypothesis is basically saying that whether the value is going to be 30 which iam considering as population_mean or whether it is not 30  , if it is 30 we say that there is no difference and i consider this as null hypothesis (H0) AND my alternate hypothesis (H1) is there is a difference  "
   ]
  },
  {
   "cell_type": "code",
   "execution_count": 31,
   "id": "e9a0c93d",
   "metadata": {},
   "outputs": [
    {
     "name": "stdout",
     "output_type": "stream",
     "text": [
      "0.964915107315732\n"
     ]
    }
   ],
   "source": [
    "print(p_value)"
   ]
  },
  {
   "cell_type": "markdown",
   "id": "42b698d1",
   "metadata": {},
   "source": [
    "if my p value is less than 0.05 then we are rejecting null hypothesis and if it is greater than 0.05 then we are accepting null hypothesis"
   ]
  },
  {
   "cell_type": "code",
   "execution_count": 33,
   "id": "a3876224",
   "metadata": {},
   "outputs": [
    {
     "name": "stdout",
     "output_type": "stream",
     "text": [
      "we are accepting null hypothesis\n"
     ]
    }
   ],
   "source": [
    "if p_value < 0.05:    # alpha value is 0.05 or 5%\n",
    "    print(\"we are rejecting null hypothesis\")\n",
    "else:\n",
    "    print(\"we are accepting null hypothesis\")"
   ]
  },
  {
   "cell_type": "markdown",
   "id": "7fa19150",
   "metadata": {},
   "source": [
    "A one-sample t-test is used to test whether the mean of a sample is equal to a hypothesized mean.\n",
    "\n",
    "In your example, the hypothesized mean is 30. The sample mean is calculated to be 30.34375. The p-value is 0.9649, which is greater than the significance level of 0.05. Therefore, we accept the null hypothesis, which means that there is no significant difference between the mean of the sample and the hypothesized mean.\n",
    "\n",
    "In other words, the sample mean is not significantly different from 30."
   ]
  },
  {
   "cell_type": "markdown",
   "id": "b386cbe4",
   "metadata": {},
   "source": [
    "## Some More Examples\n",
    "Consider the age of students in a college and in Class A"
   ]
  },
  {
   "cell_type": "code",
   "execution_count": 4,
   "id": "926b7013",
   "metadata": {},
   "outputs": [],
   "source": [
    "import numpy as np\n",
    "import pandas as pd\n",
    "import scipy.stats as stats\n",
    "import math\n",
    "np.random.seed(6)\n",
    "school_ages=stats.poisson.rvs(loc=18,mu=35,size=1500) # loc =18 means the age starts selects from 18 and mu=35 means all the ages which are randomly get selected has mean 35 and iam considering the 1500 students  \n",
    "classA_ages=stats.poisson.rvs(loc=18,mu=30,size=60)"
   ]
  },
  {
   "cell_type": "code",
   "execution_count": 5,
   "id": "cde87ab0",
   "metadata": {},
   "outputs": [
    {
     "data": {
      "text/plain": [
       "46.9"
      ]
     },
     "execution_count": 5,
     "metadata": {},
     "output_type": "execute_result"
    }
   ],
   "source": [
    "classA_ages.mean()"
   ]
  },
  {
   "cell_type": "code",
   "execution_count": 13,
   "id": "887b3865",
   "metadata": {},
   "outputs": [],
   "source": [
    "# now again iam using the ttest_1sample to find whether the mean of the classA_ages sample is different from the school_ages\n",
    "_,p_value=stats.ttest_1samp(a=classA_ages,popmean=school_ages.mean()) #here iam taking the population mean as school_ages varaible ,and remember my 1st parameter which is a given as sample of ages and 2nd paramter which is mean of my population "
   ]
  },
  {
   "cell_type": "code",
   "execution_count": 14,
   "id": "087ac57e",
   "metadata": {},
   "outputs": [
    {
     "data": {
      "text/plain": [
       "1.139027071016194e-13"
      ]
     },
     "execution_count": 14,
     "metadata": {},
     "output_type": "execute_result"
    }
   ],
   "source": [
    "p_value"
   ]
  },
  {
   "cell_type": "markdown",
   "id": "f032793f",
   "metadata": {},
   "source": [
    "here we got p_value as 1.13 which is less than 0.05  and so we are rejecting the null hypothesis"
   ]
  },
  {
   "cell_type": "code",
   "execution_count": 15,
   "id": "8b1e6741",
   "metadata": {},
   "outputs": [
    {
     "data": {
      "text/plain": [
       "53.303333333333335"
      ]
     },
     "execution_count": 15,
     "metadata": {},
     "output_type": "execute_result"
    }
   ],
   "source": [
    "school_ages.mean()"
   ]
  },
  {
   "cell_type": "code",
   "execution_count": 16,
   "id": "102e6041",
   "metadata": {},
   "outputs": [
    {
     "name": "stdout",
     "output_type": "stream",
     "text": [
      "we are rejecting null hypothesis\n"
     ]
    }
   ],
   "source": [
    "if p_value<0.05: # alpha value is 0.05 or 5%\n",
    "    print(\"we are rejecting null hypothesis\")\n",
    "else:\n",
    "    print(\"we are accepting null hypothesis\")"
   ]
  },
  {
   "cell_type": "markdown",
   "id": "e7823edb",
   "metadata": {},
   "source": [
    "p_value is 1.13 which is less than 0.05  and so we are rejecting the null hypothesis and null hypothesis is saying that there is no difference in the mean of the age and alternate hypothesis is saying that there is difference in the mean of the age \n",
    "\n",
    "\n",
    "\n",
    "Certainly! Let's go through the code step by step:\n",
    "\n",
    "1. Imports: The code begins by importing the necessary libraries, including NumPy, Pandas, and scipy.stats. These libraries provide functions for statistical calculations and data manipulation.\n",
    "\n",
    "2. Setting the random seed: The line `np.random.seed(6)` sets a random seed of 6 for reproducibility. This ensures that the random numbers generated will be the same each time the code is executed.\n",
    "\n",
    "3. Generating random data: Two sets of random data are generated using the Poisson distribution. The `school_ages` variable represents the ages of 1500 students, with a mean of 35 and a starting point of 18. The `classA_ages` variable represents the ages of 60 students in a specific class, with a mean of 30 and the same starting point of 18.\n",
    "\n",
    "4. Calculating the mean: The line `classA_ages.mean()` calculates the mean of the `classA_ages` sample, which is found to be approximately 46.9.\n",
    "\n",
    "5. Performing a one-sample t-test: The `stats.ttest_1samp()` function is used to perform a one-sample t-test. This test compares the mean of the `classA_ages` sample to the mean of the `school_ages` population. The result is stored in the variables `_` and `p_value`.\n",
    "\n",
    "6. Printing the p-value: The line `p_value` prints the p-value obtained from the t-test. In this case, the p-value is approximately 1.14e-13 (very close to zero).\n",
    "\n",
    "7. Comparing p-value with significance level: The code then checks whether the p-value is less than 0.05 (a significance level of 5%). If the p-value is less than the significance level, it prints \"we are rejecting the null hypothesis.\" Otherwise, it prints \"we are accepting the null hypothesis.\"\n",
    "\n",
    "8. Printing the mean of `school_ages`: The line `school_ages.mean()` calculates and prints the mean of the `school_ages` population, which is approximately 53.3.\n",
    "\n",
    "In summary, this code generates random age data for students, calculates the mean of a specific class's ages, performs a one-sample t-test to compare it with the mean of the entire school's ages, and determines whether to reject or accept the null hypothesis based on the p-value."
   ]
  },
  {
   "cell_type": "code",
   "execution_count": null,
   "id": "23156331",
   "metadata": {},
   "outputs": [],
   "source": []
  },
  {
   "cell_type": "markdown",
   "id": "41446285",
   "metadata": {},
   "source": [
    "##### Question\n",
    "By performing the ttest -sample why we are getting to know whether to accept null hypothesis or not explain me very clearlyt\n",
    "\n",
    "#### Answer\n",
    "Certainly! Let's dive into the details of the t-test and how it helps us determine whether to accept or reject the null hypothesis.\n",
    "\n",
    "In statistical hypothesis testing, we have a null hypothesis (H0) and an alternative hypothesis (HA). The null hypothesis represents the assumption of no significant difference or no effect, while the alternative hypothesis suggests that there is a significant difference or effect.\n",
    "\n",
    "In the given code, the null hypothesis (H0) assumes that the mean age of the specific class (classA_ages) is equal to the mean age of the entire school population (school_ages). The alternative hypothesis (HA) assumes that the means are different.\n",
    "\n",
    "To determine whether to accept or reject the null hypothesis, we perform a t-test. The t-test assesses the statistical significance of the difference between the sample mean (classA_ages.mean()) and the population mean (school_ages.mean()).\n",
    "\n",
    "The line of code _, p_value = stats.ttest_1samp(a=classA_ages, popmean=school_ages.mean()) calculates the t-test and stores the resulting p-value in the variable p_value. The p-value represents the probability of obtaining the observed difference (or a more extreme difference) between the sample mean and the population mean, assuming that the null hypothesis is true.\n",
    "\n",
    "Now, we compare the obtained p-value with a predetermined significance level (also known as alpha), typically set at 0.05 or 5% in many statistical analyses.\n",
    "\n",
    "If the p-value is less than the significance level (p-value < 0.05), we have evidence to reject the null hypothesis. This suggests that the mean age of the specific class is significantly different from the mean age of the entire school population.\n",
    "\n",
    "On the other hand, if the p-value is greater than or equal to the significance level (p-value >= 0.05), we do not have sufficient evidence to reject the null hypothesis. In this case, we conclude that there is not enough statistical evidence to suggest a significant difference between the mean age of the specific class and the mean age of the entire school population.\n",
    "\n",
    "In the given code, the p-value is found to be approximately 1.14e-13, which is significantly smaller than the significance level of 0.05. Therefore, the code prints \"we are rejecting the null hypothesis,\" indicating that there is strong evidence to suggest a significant difference between the mean ages of the specific class and the entire school population.\n",
    "\n",
    "In summary, by performing the one-sample t-test and comparing the p-value with the significance level, we can infer whether to accept or reject the null hypothesis and make conclusions about the difference between the sample mean and the population mean."
   ]
  },
  {
   "cell_type": "code",
   "execution_count": null,
   "id": "1edf6be9",
   "metadata": {},
   "outputs": [],
   "source": []
  },
  {
   "cell_type": "markdown",
   "id": "3fe63d9b",
   "metadata": {},
   "source": [
    "#### what we will get after either to accept or reject the null hypothesis\n",
    "\n",
    "\n",
    "After performing a statistical test and deciding whether to accept or reject the null hypothesis, we gain insights into the relationship or difference between the variables under investigation. Here's what we typically obtain based on the decision:\n",
    "\n",
    "Rejecting the null hypothesis: If we reject the null hypothesis, it means we have found sufficient evidence to support the alternative hypothesis. In other words, we have evidence to suggest that there is a significant difference, effect, or relationship between the variables being tested. This can provide valuable insights and support further analysis or decision-making.\n",
    "\n",
    "Accepting the null hypothesis: If we accept the null hypothesis, it means we do not have enough evidence to support the alternative hypothesis. We conclude that there is no significant difference, effect, or relationship between the variables. This can indicate that the observed result is likely due to chance or random variation.\n",
    "\n",
    "It's important to note that accepting the null hypothesis does not necessarily mean that the null hypothesis is true. It simply means that we do not have enough evidence to suggest otherwise based on the statistical test conducted.\n",
    "\n",
    "The decision to accept or reject the null hypothesis depends on the p-value obtained from the statistical test and the predetermined significance level\n",
    "\n"
   ]
  },
  {
   "cell_type": "markdown",
   "id": "5f6dd436",
   "metadata": {},
   "source": [
    "### Two-sample T-test With Python\n",
    "The Independent Samples t Test or 2-sample t-test compares the means of two independent groups in order to determine whether there is statistical evidence that the associated population means are significantly different. The Independent Samples t Test is a parametric test. This test is also known as: Independent t Test"
   ]
  },
  {
   "attachments": {
    "1_2jH9wKCHfosFb4G4DvI-2w.png": {
     "image/png": "[encoded data removed]"
    }
   },
   "cell_type": "markdown",
   "id": "1c0a1461",
   "metadata": {},
   "source": [
    "![1_2jH9wKCHfosFb4G4DvI-2w.png](attachment:1_2jH9wKCHfosFb4G4DvI-2w.png)"
   ]
  },
  {
   "cell_type": "code",
   "execution_count": 18,
   "id": "41f857df",
   "metadata": {},
   "outputs": [
    {
     "data": {
      "text/plain": [
       "50.63333333333333"
      ]
     },
     "execution_count": 18,
     "metadata": {},
     "output_type": "execute_result"
    }
   ],
   "source": [
    "np.random.seed(12)\n",
    "classB_ages=stats.poisson.rvs(loc=18,mu=33,size=60)\n",
    "classB_ages.mean()"
   ]
  },
  {
   "cell_type": "code",
   "execution_count": 20,
   "id": "bd98ef2d",
   "metadata": {},
   "outputs": [],
   "source": [
    "_,p_value=stats.ttest_ind(a=classA_ages,b=classB_ages,equal_var=False) # so for perfoming the 2 sample ttest we are using the function name as ttest_ind() asnd it contains paramters as a is 1 group and b is another group"
   ]
  },
  {
   "cell_type": "code",
   "execution_count": 22,
   "id": "b287186d",
   "metadata": {},
   "outputs": [
    {
     "data": {
      "text/plain": [
       "0.00039942095100859375"
      ]
     },
     "execution_count": 22,
     "metadata": {},
     "output_type": "execute_result"
    }
   ],
   "source": [
    "p_value"
   ]
  },
  {
   "cell_type": "code",
   "execution_count": 21,
   "id": "dbf49475",
   "metadata": {},
   "outputs": [
    {
     "name": "stdout",
     "output_type": "stream",
     "text": [
      "we are rejecting null hypothesis\n"
     ]
    }
   ],
   "source": [
    "if p_value<0.05: # alpha value is 0.05 or 5%\n",
    "    print(\"we are rejecting null hypothesis\")\n",
    "else:\n",
    "    print(\"we are accepting null hypothesis\")"
   ]
  },
  {
   "cell_type": "markdown",
   "id": "ea393da8",
   "metadata": {},
   "source": [
    "Certainly! Let's go through the code step by step to understand the two-sample t-test being performed:\n",
    "\n",
    "Setting the random seed: The line np.random.seed(12) sets a random seed of 12 for reproducibility. This ensures that the random numbers generated will be the same each time the code is executed.\n",
    "\n",
    "Generating random age data for class B: The line classB_ages = stats.poisson.rvs(loc=18, mu=33, size=60) generates a set of random ages for another class, class B. The ages are generated using the Poisson distribution with a mean of 33 and a starting point of 18. The classB_ages variable represents the ages of 60 students in class B.\n",
    "\n",
    "Calculating the mean of class B ages: The line classB_ages.mean() calculates the mean of the class B ages, which is found to be approximately 50.63.\n",
    "\n",
    "Performing a two-sample t-test: The stats.ttest_ind() function is used to perform a two-sample t-test. This test compares the means of two independent samples (class A ages and class B ages) to determine if they are significantly different. The parameters a and b are used to pass the two samples, and equal_var=False is specified to indicate that the variances of the two samples are not assumed to be equal.\n",
    "\n",
    "Printing the p-value: The line p_value prints the p-value obtained from the two-sample t-test. In this case, the p-value is approximately 0.0004.\n",
    "\n",
    "Comparing p-value with significance level: The code then checks whether the p-value is less than 0.05 (a significance level of 5%). If the p-value is less than the significance level, it prints \"we are rejecting the null hypothesis.\" Otherwise, it prints \"we are accepting the null hypothesis.\"\n",
    "\n",
    "In this case, the p-value is found to be approximately 0.0004, which is smaller than the significance level of 0.05. Therefore, the code prints \"we are rejecting the null hypothesis,\" indicating that there is strong evidence to suggest a significant difference between the mean ages of class A and class B.\n",
    "\n",
    "To summarize, the code performs a two-sample t-test to compare the means of two independent samples. By comparing the resulting p-value with the significance level, we can determine whether to accept or reject the null hypothesis. In this case, the null hypothesis assumes that there is no significant difference between the mean ages of class A and class B, and we reject the null hypothesis based on the small p-value obtained."
   ]
  },
  {
   "cell_type": "code",
   "execution_count": null,
   "id": "27d2b76b",
   "metadata": {},
   "outputs": [],
   "source": []
  },
  {
   "cell_type": "markdown",
   "id": "6244f41d",
   "metadata": {},
   "source": [
    "### Paired T-test With Python\n",
    "When you want to check how different samples from the same group are, you can go for a paired T-test"
   ]
  },
  {
   "cell_type": "code",
   "execution_count": 25,
   "id": "b4b34d81",
   "metadata": {},
   "outputs": [],
   "source": [
    "weight1=[25,30,28,35,28,34,26,29,30,26,28,32,31,30,45] # here i have some weight of the school kids\n",
    "weight2=weight1+stats.norm.rvs(scale=5,loc=-1.25,size=15) # so after some years the weight of the school kids got increase,so by appending adding some weights on the values and considering that the weight of those kids is increasing "
   ]
  },
  {
   "cell_type": "code",
   "execution_count": 26,
   "id": "feffa1df",
   "metadata": {},
   "outputs": [
    {
     "name": "stdout",
     "output_type": "stream",
     "text": [
      "[25, 30, 28, 35, 28, 34, 26, 29, 30, 26, 28, 32, 31, 30, 45]\n",
      "[10.65253339 32.44523171 30.08750529 33.98201318 30.08038798 39.78974242\n",
      " 25.00574593 23.0701257  19.55445346 25.06889364 23.18015951 27.94057668\n",
      " 24.08765575 30.12145502 47.42956055]\n"
     ]
    }
   ],
   "source": [
    "print(weight1)\n",
    "print(weight2)"
   ]
  },
  {
   "cell_type": "markdown",
   "id": "ea0427f9",
   "metadata": {},
   "source": [
    "so based on the above output we are checking that wether weight 1 and weight 2 have statistical difference or not, and how difference the particular samples are ,(H0) null hypothesis says that there is no statistical difference,(H1) alternate hypothesis says that there is a statistical difference ,so if we want to comput in this particular way we have to perform the paired T-test  because 2 weight features has same len of weights but the samples weight  have been changed or different"
   ]
  },
  {
   "cell_type": "code",
   "execution_count": 31,
   "id": "d251d1fe",
   "metadata": {},
   "outputs": [],
   "source": [
    "weight_df=pd.DataFrame({\"weight_10\":np.array(weight1),\n",
    "                         \"weight_20\":np.array(weight2),\n",
    "                       \"weight_change\":np.array(weight2)-np.array(weight1)})"
   ]
  },
  {
   "cell_type": "code",
   "execution_count": 32,
   "id": "3efa47e3",
   "metadata": {},
   "outputs": [
    {
     "data": {
      "text/html": [
       "<div>\n",
       "<style scoped>\n",
       "    .dataframe tbody tr th:only-of-type {\n",
       "        vertical-align: middle;\n",
       "    }\n",
       "\n",
       "    .dataframe tbody tr th {\n",
       "        vertical-align: top;\n",
       "    }\n",
       "\n",
       "    .dataframe thead th {\n",
       "        text-align: right;\n",
       "    }\n",
       "</style>\n",
       "<table border=\"1\" class=\"dataframe\">\n",
       "  <thead>\n",
       "    <tr style=\"text-align: right;\">\n",
       "      <th></th>\n",
       "      <th>weight_10</th>\n",
       "      <th>weight_20</th>\n",
       "      <th>weight_change</th>\n",
       "    </tr>\n",
       "  </thead>\n",
       "  <tbody>\n",
       "    <tr>\n",
       "      <th>0</th>\n",
       "      <td>25</td>\n",
       "      <td>10.652533</td>\n",
       "      <td>-14.347467</td>\n",
       "    </tr>\n",
       "    <tr>\n",
       "      <th>1</th>\n",
       "      <td>30</td>\n",
       "      <td>32.445232</td>\n",
       "      <td>2.445232</td>\n",
       "    </tr>\n",
       "    <tr>\n",
       "      <th>2</th>\n",
       "      <td>28</td>\n",
       "      <td>30.087505</td>\n",
       "      <td>2.087505</td>\n",
       "    </tr>\n",
       "    <tr>\n",
       "      <th>3</th>\n",
       "      <td>35</td>\n",
       "      <td>33.982013</td>\n",
       "      <td>-1.017987</td>\n",
       "    </tr>\n",
       "    <tr>\n",
       "      <th>4</th>\n",
       "      <td>28</td>\n",
       "      <td>30.080388</td>\n",
       "      <td>2.080388</td>\n",
       "    </tr>\n",
       "    <tr>\n",
       "      <th>5</th>\n",
       "      <td>34</td>\n",
       "      <td>39.789742</td>\n",
       "      <td>5.789742</td>\n",
       "    </tr>\n",
       "    <tr>\n",
       "      <th>6</th>\n",
       "      <td>26</td>\n",
       "      <td>25.005746</td>\n",
       "      <td>-0.994254</td>\n",
       "    </tr>\n",
       "    <tr>\n",
       "      <th>7</th>\n",
       "      <td>29</td>\n",
       "      <td>23.070126</td>\n",
       "      <td>-5.929874</td>\n",
       "    </tr>\n",
       "    <tr>\n",
       "      <th>8</th>\n",
       "      <td>30</td>\n",
       "      <td>19.554453</td>\n",
       "      <td>-10.445547</td>\n",
       "    </tr>\n",
       "    <tr>\n",
       "      <th>9</th>\n",
       "      <td>26</td>\n",
       "      <td>25.068894</td>\n",
       "      <td>-0.931106</td>\n",
       "    </tr>\n",
       "    <tr>\n",
       "      <th>10</th>\n",
       "      <td>28</td>\n",
       "      <td>23.180160</td>\n",
       "      <td>-4.819840</td>\n",
       "    </tr>\n",
       "    <tr>\n",
       "      <th>11</th>\n",
       "      <td>32</td>\n",
       "      <td>27.940577</td>\n",
       "      <td>-4.059423</td>\n",
       "    </tr>\n",
       "    <tr>\n",
       "      <th>12</th>\n",
       "      <td>31</td>\n",
       "      <td>24.087656</td>\n",
       "      <td>-6.912344</td>\n",
       "    </tr>\n",
       "    <tr>\n",
       "      <th>13</th>\n",
       "      <td>30</td>\n",
       "      <td>30.121455</td>\n",
       "      <td>0.121455</td>\n",
       "    </tr>\n",
       "    <tr>\n",
       "      <th>14</th>\n",
       "      <td>45</td>\n",
       "      <td>47.429561</td>\n",
       "      <td>2.429561</td>\n",
       "    </tr>\n",
       "  </tbody>\n",
       "</table>\n",
       "</div>"
      ],
      "text/plain": [
       "    weight_10  weight_20  weight_change\n",
       "0          25  10.652533     -14.347467\n",
       "1          30  32.445232       2.445232\n",
       "2          28  30.087505       2.087505\n",
       "3          35  33.982013      -1.017987\n",
       "4          28  30.080388       2.080388\n",
       "5          34  39.789742       5.789742\n",
       "6          26  25.005746      -0.994254\n",
       "7          29  23.070126      -5.929874\n",
       "8          30  19.554453     -10.445547\n",
       "9          26  25.068894      -0.931106\n",
       "10         28  23.180160      -4.819840\n",
       "11         32  27.940577      -4.059423\n",
       "12         31  24.087656      -6.912344\n",
       "13         30  30.121455       0.121455\n",
       "14         45  47.429561       2.429561"
      ]
     },
     "execution_count": 32,
     "metadata": {},
     "output_type": "execute_result"
    }
   ],
   "source": [
    "weight_df"
   ]
  },
  {
   "cell_type": "code",
   "execution_count": 33,
   "id": "e0efaba8",
   "metadata": {},
   "outputs": [],
   "source": [
    "_,p_value=stats.ttest_rel(a=weight1,b=weight2) # here by using ttest_rel we are performing the paired t-test on 2 different sample weights and a= previous sample of weights and b= present sample of weights"
   ]
  },
  {
   "cell_type": "code",
   "execution_count": 34,
   "id": "f64229ff",
   "metadata": {},
   "outputs": [
    {
     "name": "stdout",
     "output_type": "stream",
     "text": [
      "0.12415067833129617\n"
     ]
    }
   ],
   "source": [
    "print(p_value)"
   ]
  },
  {
   "cell_type": "code",
   "execution_count": 35,
   "id": "6a3fe281",
   "metadata": {},
   "outputs": [
    {
     "name": "stdout",
     "output_type": "stream",
     "text": [
      "we are accepting null hypothesis\n"
     ]
    }
   ],
   "source": [
    "if p_value < 0.05:    # alpha value is 0.05 or 5%\n",
    "    print(\" we are rejecting null hypothesis\")\n",
    "else:\n",
    "    print(\"we are accepting null hypothesis\")"
   ]
  },
  {
   "cell_type": "markdown",
   "id": "b33374e0",
   "metadata": {},
   "source": [
    "The above output basically saying that there is no such difference b/w these particular groups  "
   ]
  },
  {
   "cell_type": "code",
   "execution_count": null,
   "id": "f9a18e0c",
   "metadata": {},
   "outputs": [],
   "source": []
  },
  {
   "cell_type": "markdown",
   "id": "0c8eb939",
   "metadata": {},
   "source": [
    "### Correlation"
   ]
  },
  {
   "cell_type": "code",
   "execution_count": 38,
   "id": "97a94916",
   "metadata": {},
   "outputs": [],
   "source": [
    "import seaborn as sns\n",
    "df=sns.load_dataset('iris')"
   ]
  },
  {
   "cell_type": "code",
   "execution_count": 39,
   "id": "f05cac9c",
   "metadata": {},
   "outputs": [
    {
     "data": {
      "text/plain": [
       "(150, 5)"
      ]
     },
     "execution_count": 39,
     "metadata": {},
     "output_type": "execute_result"
    }
   ],
   "source": [
    "df.shape"
   ]
  },
  {
   "cell_type": "code",
   "execution_count": 40,
   "id": "51cf2200",
   "metadata": {},
   "outputs": [
    {
     "name": "stderr",
     "output_type": "stream",
     "text": [
      "C:\\Users\\mahen\\AppData\\Local\\Temp\\ipykernel_22344\\1134722465.py:1: FutureWarning: The default value of numeric_only in DataFrame.corr is deprecated. In a future version, it will default to False. Select only valid columns or specify the value of numeric_only to silence this warning.\n",
      "  df.corr()\n"
     ]
    },
    {
     "data": {
      "text/html": [
       "<div>\n",
       "<style scoped>\n",
       "    .dataframe tbody tr th:only-of-type {\n",
       "        vertical-align: middle;\n",
       "    }\n",
       "\n",
       "    .dataframe tbody tr th {\n",
       "        vertical-align: top;\n",
       "    }\n",
       "\n",
       "    .dataframe thead th {\n",
       "        text-align: right;\n",
       "    }\n",
       "</style>\n",
       "<table border=\"1\" class=\"dataframe\">\n",
       "  <thead>\n",
       "    <tr style=\"text-align: right;\">\n",
       "      <th></th>\n",
       "      <th>sepal_length</th>\n",
       "      <th>sepal_width</th>\n",
       "      <th>petal_length</th>\n",
       "      <th>petal_width</th>\n",
       "    </tr>\n",
       "  </thead>\n",
       "  <tbody>\n",
       "    <tr>\n",
       "      <th>sepal_length</th>\n",
       "      <td>1.000000</td>\n",
       "      <td>-0.117570</td>\n",
       "      <td>0.871754</td>\n",
       "      <td>0.817941</td>\n",
       "    </tr>\n",
       "    <tr>\n",
       "      <th>sepal_width</th>\n",
       "      <td>-0.117570</td>\n",
       "      <td>1.000000</td>\n",
       "      <td>-0.428440</td>\n",
       "      <td>-0.366126</td>\n",
       "    </tr>\n",
       "    <tr>\n",
       "      <th>petal_length</th>\n",
       "      <td>0.871754</td>\n",
       "      <td>-0.428440</td>\n",
       "      <td>1.000000</td>\n",
       "      <td>0.962865</td>\n",
       "    </tr>\n",
       "    <tr>\n",
       "      <th>petal_width</th>\n",
       "      <td>0.817941</td>\n",
       "      <td>-0.366126</td>\n",
       "      <td>0.962865</td>\n",
       "      <td>1.000000</td>\n",
       "    </tr>\n",
       "  </tbody>\n",
       "</table>\n",
       "</div>"
      ],
      "text/plain": [
       "              sepal_length  sepal_width  petal_length  petal_width\n",
       "sepal_length      1.000000    -0.117570      0.871754     0.817941\n",
       "sepal_width      -0.117570     1.000000     -0.428440    -0.366126\n",
       "petal_length      0.871754    -0.428440      1.000000     0.962865\n",
       "petal_width       0.817941    -0.366126      0.962865     1.000000"
      ]
     },
     "execution_count": 40,
     "metadata": {},
     "output_type": "execute_result"
    }
   ],
   "source": [
    "df.corr()"
   ]
  },
  {
   "cell_type": "code",
   "execution_count": 41,
   "id": "a407fd7c",
   "metadata": {},
   "outputs": [
    {
     "data": {
      "text/plain": [
       "<seaborn.axisgrid.PairGrid at 0x1d5fb8da740>"
      ]
     },
     "execution_count": 41,
     "metadata": {},
     "output_type": "execute_result"
    },
    {
     "data": {
      "image/png": "[encoded data removed]",
      "text/plain": [
       "<Figure size 1000x1000 with 20 Axes>"
      ]
     },
     "metadata": {},
     "output_type": "display_data"
    }
   ],
   "source": [
    "sns.pairplot(df)"
   ]
  },
  {
   "cell_type": "code",
   "execution_count": null,
   "id": "8f08f564",
   "metadata": {},
   "outputs": [],
   "source": []
  },
  {
   "cell_type": "markdown",
   "id": "15df1fca",
   "metadata": {},
   "source": [
    "### Anova Test(F-Test)\n",
    "The t-test works well when dealing with two groups, but sometimes we want to compare more than two groups at the same time.\n",
    "\n",
    "For example, if we wanted to test whether petal_width age differs based on some categorical variable like species, we have to compare the means of each level or group the variable"
   ]
  },
  {
   "cell_type": "markdown",
   "id": "284953ef",
   "metadata": {},
   "source": [
    "### One Way F-test(Anova) :-\n",
    "It tell whether two or more groups are similar or not based on their mean similarity and f-score.\n",
    "\n",
    "Example : there are 3 different category of iris flowers and their petal width and need to check whether all 3 group are similar or not"
   ]
  },
  {
   "cell_type": "code",
   "execution_count": 42,
   "id": "a02ffb10",
   "metadata": {},
   "outputs": [],
   "source": [
    "import seaborn as sns\n",
    "df1=sns.load_dataset('iris')"
   ]
  },
  {
   "cell_type": "code",
   "execution_count": 43,
   "id": "6d441a3f",
   "metadata": {},
   "outputs": [
    {
     "data": {
      "text/html": [
       "<div>\n",
       "<style scoped>\n",
       "    .dataframe tbody tr th:only-of-type {\n",
       "        vertical-align: middle;\n",
       "    }\n",
       "\n",
       "    .dataframe tbody tr th {\n",
       "        vertical-align: top;\n",
       "    }\n",
       "\n",
       "    .dataframe thead th {\n",
       "        text-align: right;\n",
       "    }\n",
       "</style>\n",
       "<table border=\"1\" class=\"dataframe\">\n",
       "  <thead>\n",
       "    <tr style=\"text-align: right;\">\n",
       "      <th></th>\n",
       "      <th>sepal_length</th>\n",
       "      <th>sepal_width</th>\n",
       "      <th>petal_length</th>\n",
       "      <th>petal_width</th>\n",
       "      <th>species</th>\n",
       "    </tr>\n",
       "  </thead>\n",
       "  <tbody>\n",
       "    <tr>\n",
       "      <th>0</th>\n",
       "      <td>5.1</td>\n",
       "      <td>3.5</td>\n",
       "      <td>1.4</td>\n",
       "      <td>0.2</td>\n",
       "      <td>setosa</td>\n",
       "    </tr>\n",
       "    <tr>\n",
       "      <th>1</th>\n",
       "      <td>4.9</td>\n",
       "      <td>3.0</td>\n",
       "      <td>1.4</td>\n",
       "      <td>0.2</td>\n",
       "      <td>setosa</td>\n",
       "    </tr>\n",
       "    <tr>\n",
       "      <th>2</th>\n",
       "      <td>4.7</td>\n",
       "      <td>3.2</td>\n",
       "      <td>1.3</td>\n",
       "      <td>0.2</td>\n",
       "      <td>setosa</td>\n",
       "    </tr>\n",
       "    <tr>\n",
       "      <th>3</th>\n",
       "      <td>4.6</td>\n",
       "      <td>3.1</td>\n",
       "      <td>1.5</td>\n",
       "      <td>0.2</td>\n",
       "      <td>setosa</td>\n",
       "    </tr>\n",
       "    <tr>\n",
       "      <th>4</th>\n",
       "      <td>5.0</td>\n",
       "      <td>3.6</td>\n",
       "      <td>1.4</td>\n",
       "      <td>0.2</td>\n",
       "      <td>setosa</td>\n",
       "    </tr>\n",
       "  </tbody>\n",
       "</table>\n",
       "</div>"
      ],
      "text/plain": [
       "   sepal_length  sepal_width  petal_length  petal_width species\n",
       "0           5.1          3.5           1.4          0.2  setosa\n",
       "1           4.9          3.0           1.4          0.2  setosa\n",
       "2           4.7          3.2           1.3          0.2  setosa\n",
       "3           4.6          3.1           1.5          0.2  setosa\n",
       "4           5.0          3.6           1.4          0.2  setosa"
      ]
     },
     "execution_count": 43,
     "metadata": {},
     "output_type": "execute_result"
    }
   ],
   "source": [
    "df1.head()"
   ]
  },
  {
   "cell_type": "code",
   "execution_count": 44,
   "id": "db484def",
   "metadata": {},
   "outputs": [],
   "source": [
    "df_anova = df1[['petal_width','species']]"
   ]
  },
  {
   "cell_type": "code",
   "execution_count": 45,
   "id": "661708e1",
   "metadata": {},
   "outputs": [],
   "source": [
    "grps = pd.unique(df_anova.species.values)"
   ]
  },
  {
   "cell_type": "code",
   "execution_count": 46,
   "id": "e766ef6a",
   "metadata": {},
   "outputs": [
    {
     "data": {
      "text/plain": [
       "array(['setosa', 'versicolor', 'virginica'], dtype=object)"
      ]
     },
     "execution_count": 46,
     "metadata": {},
     "output_type": "execute_result"
    }
   ],
   "source": [
    "grps"
   ]
  },
  {
   "cell_type": "code",
   "execution_count": 47,
   "id": "50b05fab",
   "metadata": {},
   "outputs": [],
   "source": [
    "d_data={grp:df_anova['petal_width'][df_anova.species==grp] for grp in grps}"
   ]
  },
  {
   "cell_type": "code",
   "execution_count": 48,
   "id": "5709e393",
   "metadata": {},
   "outputs": [
    {
     "data": {
      "text/plain": [
       "{'setosa': 0     0.2\n",
       " 1     0.2\n",
       " 2     0.2\n",
       " 3     0.2\n",
       " 4     0.2\n",
       " 5     0.4\n",
       " 6     0.3\n",
       " 7     0.2\n",
       " 8     0.2\n",
       " 9     0.1\n",
       " 10    0.2\n",
       " 11    0.2\n",
       " 12    0.1\n",
       " 13    0.1\n",
       " 14    0.2\n",
       " 15    0.4\n",
       " 16    0.4\n",
       " 17    0.3\n",
       " 18    0.3\n",
       " 19    0.3\n",
       " 20    0.2\n",
       " 21    0.4\n",
       " 22    0.2\n",
       " 23    0.5\n",
       " 24    0.2\n",
       " 25    0.2\n",
       " 26    0.4\n",
       " 27    0.2\n",
       " 28    0.2\n",
       " 29    0.2\n",
       " 30    0.2\n",
       " 31    0.4\n",
       " 32    0.1\n",
       " 33    0.2\n",
       " 34    0.2\n",
       " 35    0.2\n",
       " 36    0.2\n",
       " 37    0.1\n",
       " 38    0.2\n",
       " 39    0.2\n",
       " 40    0.3\n",
       " 41    0.3\n",
       " 42    0.2\n",
       " 43    0.6\n",
       " 44    0.4\n",
       " 45    0.3\n",
       " 46    0.2\n",
       " 47    0.2\n",
       " 48    0.2\n",
       " 49    0.2\n",
       " Name: petal_width, dtype: float64,\n",
       " 'versicolor': 50    1.4\n",
       " 51    1.5\n",
       " 52    1.5\n",
       " 53    1.3\n",
       " 54    1.5\n",
       " 55    1.3\n",
       " 56    1.6\n",
       " 57    1.0\n",
       " 58    1.3\n",
       " 59    1.4\n",
       " 60    1.0\n",
       " 61    1.5\n",
       " 62    1.0\n",
       " 63    1.4\n",
       " 64    1.3\n",
       " 65    1.4\n",
       " 66    1.5\n",
       " 67    1.0\n",
       " 68    1.5\n",
       " 69    1.1\n",
       " 70    1.8\n",
       " 71    1.3\n",
       " 72    1.5\n",
       " 73    1.2\n",
       " 74    1.3\n",
       " 75    1.4\n",
       " 76    1.4\n",
       " 77    1.7\n",
       " 78    1.5\n",
       " 79    1.0\n",
       " 80    1.1\n",
       " 81    1.0\n",
       " 82    1.2\n",
       " 83    1.6\n",
       " 84    1.5\n",
       " 85    1.6\n",
       " 86    1.5\n",
       " 87    1.3\n",
       " 88    1.3\n",
       " 89    1.3\n",
       " 90    1.2\n",
       " 91    1.4\n",
       " 92    1.2\n",
       " 93    1.0\n",
       " 94    1.3\n",
       " 95    1.2\n",
       " 96    1.3\n",
       " 97    1.3\n",
       " 98    1.1\n",
       " 99    1.3\n",
       " Name: petal_width, dtype: float64,\n",
       " 'virginica': 100    2.5\n",
       " 101    1.9\n",
       " 102    2.1\n",
       " 103    1.8\n",
       " 104    2.2\n",
       " 105    2.1\n",
       " 106    1.7\n",
       " 107    1.8\n",
       " 108    1.8\n",
       " 109    2.5\n",
       " 110    2.0\n",
       " 111    1.9\n",
       " 112    2.1\n",
       " 113    2.0\n",
       " 114    2.4\n",
       " 115    2.3\n",
       " 116    1.8\n",
       " 117    2.2\n",
       " 118    2.3\n",
       " 119    1.5\n",
       " 120    2.3\n",
       " 121    2.0\n",
       " 122    2.0\n",
       " 123    1.8\n",
       " 124    2.1\n",
       " 125    1.8\n",
       " 126    1.8\n",
       " 127    1.8\n",
       " 128    2.1\n",
       " 129    1.6\n",
       " 130    1.9\n",
       " 131    2.0\n",
       " 132    2.2\n",
       " 133    1.5\n",
       " 134    1.4\n",
       " 135    2.3\n",
       " 136    2.4\n",
       " 137    1.8\n",
       " 138    1.8\n",
       " 139    2.1\n",
       " 140    2.4\n",
       " 141    2.3\n",
       " 142    1.9\n",
       " 143    2.3\n",
       " 144    2.5\n",
       " 145    2.3\n",
       " 146    1.9\n",
       " 147    2.0\n",
       " 148    2.3\n",
       " 149    1.8\n",
       " Name: petal_width, dtype: float64}"
      ]
     },
     "execution_count": 48,
     "metadata": {},
     "output_type": "execute_result"
    }
   ],
   "source": [
    "d_data"
   ]
  },
  {
   "cell_type": "code",
   "execution_count": 49,
   "id": "90c14309",
   "metadata": {},
   "outputs": [],
   "source": [
    "F, p = stats.f_oneway(d_data['setosa'], d_data['versicolor'], d_data['virginica'])"
   ]
  },
  {
   "cell_type": "code",
   "execution_count": 50,
   "id": "89c8f7d7",
   "metadata": {
    "scrolled": true
   },
   "outputs": [
    {
     "name": "stdout",
     "output_type": "stream",
     "text": [
      "4.169445839443116e-85\n"
     ]
    }
   ],
   "source": [
    "print(p)"
   ]
  },
  {
   "cell_type": "code",
   "execution_count": 51,
   "id": "d17f8a52",
   "metadata": {},
   "outputs": [
    {
     "name": "stdout",
     "output_type": "stream",
     "text": [
      "reject null hypothesis\n"
     ]
    }
   ],
   "source": [
    "if p<0.05:\n",
    "    print(\"reject null hypothesis\")\n",
    "else:\n",
    "    print(\"accept null hypothesis\")"
   ]
  },
  {
   "cell_type": "markdown",
   "id": "229ac772",
   "metadata": {},
   "source": [
    "Certainly! The code you provided demonstrates the use of a one-way ANOVA test (also known as an F-test) to compare the means of three different groups (categories of iris flowers) based on their petal width. Let's go through the code step by step to understand it in detail:\n",
    "\n",
    "Importing libraries and loading the dataset: The code begins by importing the necessary libraries, including seaborn and scipy.stats. It then loads the 'iris' dataset from seaborn using the line df1 = sns.load_dataset('iris').\n",
    "\n",
    "Creating the dataframe for ANOVA: The line df_anova = df1[['petal_width','species']] creates a new dataframe (df_anova) that contains only the 'petal_width' and 'species' columns from the original 'iris' dataframe.\n",
    "\n",
    "Extracting unique groups: The line grps = pd.unique(df_anova.species.values) extracts the unique group names from the 'species' column. In this case, there are three unique groups: 'setosa', 'versicolor', and 'virginica'.\n",
    "\n",
    "Creating a dictionary of data: The code creates a dictionary called d_data to store the petal width data for each group. The line d_data={grp:df_anova['petal_width'][df_anova.species==grp] for grp in grps} uses a dictionary comprehension to iterate over each group and store the corresponding petal width data in the dictionary.\n",
    "\n",
    "Performing the one-way ANOVA test: The line F, p = stats.f_oneway(d_data['setosa'], d_data['versicolor'], d_data['virginica']) performs the one-way ANOVA test using the f_oneway() function from scipy.stats. It compares the petal width data of the three groups ('setosa', 'versicolor', and 'virginica').\n",
    "\n",
    "Printing the p-value: The line print(p) prints the p-value obtained from the ANOVA test. In this case, the p-value is approximately 4.169e-85.\n",
    "\n",
    "Comparing p-value with significance level: The code then checks whether the p-value is less than 0.05 (a significance level of 5%). If the p-value is less than the significance level, it prints \"reject null hypothesis.\" Otherwise, it prints \"accept null hypothesis.\"\n",
    "\n",
    "In this case, the p-value is found to be approximately 4.169e-85, which is significantly smaller than the significance level of 0.05. Therefore, the code prints \"reject null hypothesis,\" indicating that there is strong evidence to suggest that the means of the petal widths in the three groups ('setosa', 'versicolor', and 'virginica') are significantly different.\n",
    "\n",
    "To summarize, the code performs a one-way ANOVA test to compare the means of three different groups based on their petal width. By comparing the resulting p-value with the significance level, we can determine whether to accept or reject the null hypothesis. In this case, the null hypothesis assumes that the means of the petal widths in the groups are the same, and we reject the null hypothesis based on the small p-value obtained."
   ]
  },
  {
   "cell_type": "code",
   "execution_count": null,
   "id": "d5df8861",
   "metadata": {},
   "outputs": [],
   "source": []
  },
  {
   "cell_type": "code",
   "execution_count": null,
   "id": "ffad8ed8",
   "metadata": {},
   "outputs": [],
   "source": []
  },
  {
   "cell_type": "markdown",
   "id": "b2b9fdfd",
   "metadata": {},
   "source": [
    "#### At what time we do perform the t-test ,chi2 test,annova test and why do we perfom these tests\n",
    "\n",
    "Different statistical tests are performed based on the type of data and the research question at hand. Here's an overview of when and why we perform some commonly used tests:\n",
    "\n",
    "T-test: The t-test is used to compare the means of two groups and determine if there is a significant difference between them. It is typically performed when the data follows a normal distribution and the variances of the groups are assumed to be equal (in the case of the independent samples t-test) or the data is paired (in the case of the paired samples t-test). The t-test is useful when comparing the means of two groups, such as comparing the effectiveness of two treatments or comparing the performance of two groups in an experiment.\n",
    "\n",
    "Chi-square test: The chi-square test is used to analyze categorical data and determine if there is a significant association or difference between two or more categorical variables. It is used when the data is in the form of frequencies or counts in different categories. The chi-square test can be performed with different variations, such as the chi-square test for independence or the chi-square goodness-of-fit test. This test is useful in various scenarios, such as analyzing survey responses, examining the association between variables, or testing the goodness-of-fit of a model to observed data.\n",
    "\n",
    "ANOVA (Analysis of Variance) test: The ANOVA test is used to compare the means of three or more groups simultaneously. It assesses whether there are significant differences among the means of multiple groups based on the variation within and between the groups. The ANOVA test is commonly used in experimental studies with more than two treatment groups or when comparing multiple levels of a categorical variable. It helps determine if there are any statistically significant differences among the means of the groups being compared.\n",
    "\n",
    "The choice of the appropriate test depends on the nature of the data, the research question, and the assumptions associated with each test. It is important to consider the characteristics of the data and select the test that is most suitable for the specific analysis."
   ]
  },
  {
   "cell_type": "code",
   "execution_count": null,
   "id": "77f7788b",
   "metadata": {},
   "outputs": [],
   "source": []
  }
 ],
 "metadata": {
  "kernelspec": {
   "display_name": "Python 3 (ipykernel)",
   "language": "python",
   "name": "python3"
  },
  "language_info": {
   "codemirror_mode": {
    "name": "ipython",
    "version": 3
   },
   "file_extension": ".py",
   "mimetype": "text/x-python",
   "name": "python",
   "nbconvert_exporter": "python",
   "pygments_lexer": "ipython3",
   "version": "3.10.9"
  }
 },
 "nbformat": 4,
 "nbformat_minor": 5
}
